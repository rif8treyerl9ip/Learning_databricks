{
 "cells": [
  {
   "cell_type": "code",
   "execution_count": 2,
   "id": "67444e97",
   "metadata": {},
   "outputs": [
    {
     "data": {
      "application/vnd.jupyter.widget-view+json": {
       "model_id": "1c1a5372054b49c7994f812a7f49049e",
       "version_major": 2,
       "version_minor": 0
      },
      "text/plain": [
       "HBox(children=(IntProgress(value=0, bar_style='success'), Label(value='')))"
      ]
     },
     "metadata": {},
     "output_type": "display_data"
    },
    {
     "name": "stdout",
     "output_type": "stream",
     "text": [
      "+---+\n",
      "| id|\n",
      "+---+\n",
      "|  0|\n",
      "|  1|\n",
      "|  2|\n",
      "|  3|\n",
      "|  4|\n",
      "|  5|\n",
      "|  6|\n",
      "|  7|\n",
      "|  8|\n",
      "|  9|\n",
      "+---+\n",
      "\n",
      "<pyspark.sql.connect.session.SparkSession object at 0x000002816484A8D0>\n"
     ]
    }
   ],
   "source": [
    "df = spark.range(10)\n",
    "df.show()\n",
    "\n",
    "print(spark)"
   ]
  },
  {
   "cell_type": "code",
   "execution_count": 3,
   "id": "2b09fc97",
   "metadata": {},
   "outputs": [
    {
     "data": {
      "application/vnd.jupyter.widget-view+json": {
       "model_id": "f842b4d3de814cb7b97c986866946b93",
       "version_major": 2,
       "version_minor": 0
      },
      "text/plain": [
       "HBox(children=(IntProgress(value=0, bar_style='success'), Label(value='')))"
      ]
     },
     "metadata": {},
     "output_type": "display_data"
    },
    {
     "data": {
      "text/html": [
       "<table border=\"1\" class=\"dataframe\">\n",
       "  <thead>\n",
       "    <tr style=\"text-align: right;\">\n",
       "      <th></th>\n",
       "      <th>review</th>\n",
       "      <th>franchiseID</th>\n",
       "      <th>review_date</th>\n",
       "      <th>new_id</th>\n",
       "    </tr>\n",
       "  </thead>\n",
       "  <tbody>\n",
       "    <tr>\n",
       "      <th>0</th>\n",
       "      <td>Title: A Delightful Cookie Experience at Bakehouse in Tenmonkan, Kagoshima\\n\\nBakehouse in Tenmonkan, Kagoshima, has truly captured my heart with their exquisite cookie selection. Among their offerings, the Outback Oatmeal and Austin Almond Biscotti stand out as absolute favorites. The Outback Oatmeal cookie, with its perfect balance of oats and sweetness, provides a satisfying crunch in every bite. Meanwhile, the Austin Almond Biscotti, with its delicate almond flavor and perfect texture, pairs beautifully with a warm cup of coffee.\\n\\nThe Orchard Oasis and Golden Gate Ginger cookies also deserve praise. Orchard Oasis is a delightful burst of fruity flavors, while Golden Gate Ginger offers a pleasant kick of spice that warms the palate. I was also pleasantly surprised by the Tokyo Tidbits, which are perfect for those who enjoy a lighter, crispier cookie.\\n\\nAlthough I didn't try the Pearly Pies, I've heard great things about them from fellow cookie enthusiasts. Bakehouse has certainly made a name for itself in Tenmonkan, and I wholeheartedly recommend a visit for anyone with a sweet tooth. The combination of quality ingredients, unique flavors, and a welcoming atmosphere makes Bakehouse a must-visit destination in Kagoshima.</td>\n",
       "      <td>3000037</td>\n",
       "      <td>2024-05-20 17:24:06.591</td>\n",
       "      <td>1</td>\n",
       "    </tr>\n",
       "    <tr>\n",
       "      <th>1</th>\n",
       "      <td>\"Sweet tooth heaven on East 6th Street! I'm obsessed with Bakehouse's Outback Oatmeal cookies - crunchy, chewy, and perfectly spiced. The Austin Almond Biscotti is another fave, with its subtle nutty flavor and satisfying crunch. However, the Orchard Oasis cookies were a letdown, too sweet and lacking depth. Overall, Bakehouse is a must-visit for cookie lovers in Austin, just be selective with your choices!\"</td>\n",
       "      <td>3000017</td>\n",
       "      <td>2024-05-20 17:17:03.052</td>\n",
       "      <td>2</td>\n",
       "    </tr>\n",
       "    <tr>\n",
       "      <th>2</th>\n",
       "      <td>**4.5/5 stars**\\n\\nI stumbled upon Bakehouse in the charming Gion district of Kyoto and was thrilled to discover their unique flavor combinations! The Outback Oatmeal cookies were a highlight - perfectly spiced and chewy. The Austin Almond Biscotti was another winner, with a delightful crunch and subtle nutty flavor. However, the Orchard Oasis cookies were a bit too sweet for my taste. The Golden Gate Ginger and Tokyo Tidbits were interesting, but not my favorite. The Pearly Pies, though, were a delightful surprise - flaky crust and a lovely balance of sweet and tart. Overall, Bakehouse is a must-visit for adventurous cookie lovers in Kyoto!</td>\n",
       "      <td>3000007</td>\n",
       "      <td>2024-05-20 17:17:03.052</td>\n",
       "      <td>3</td>\n",
       "    </tr>\n",
       "    <tr>\n",
       "      <th>3</th>\n",
       "      <td>Bakehouse in Fitzroy, Melbourne, has disappointed me with their Outback Oatmeal and Austin Almond Biscotti. The oatmeal cookies were dry and lacked the expected oat flavor, while the biscotti was overly sweet and crumbled upon first bite. I had hoped for a better experience, but these two products fell short.</td>\n",
       "      <td>3000003</td>\n",
       "      <td>2024-05-31 15:13:36.962</td>\n",
       "      <td>4</td>\n",
       "    </tr>\n",
       "    <tr>\n",
       "      <th>4</th>\n",
       "      <td>Title: A Sweet Escape in Las Vegas' Arts District\\n\\nBakehouse has become my go-to spot in Las Vegas' Arts District for a delightful treat. Their Outback Oatmeal cookies are a perfect blend of chewy and crunchy, with a generous helping of oats and a hint of cinnamon. The Austin Almond Biscotti, on the other hand, is a crispy delight, perfect for dipping in my morning coffee.\\n\\nThe Orchard Oasis is a fruity sensation that transports me to a tropical paradise, while the Golden Gate Ginger packs a punch with its spicy and sweet flavors. The Tokyo Tidbits, small and delicate, are a delightful surprise with their unique blend of flavors.\\n\\nHowever, the real star of the show is the Pearly Pies. These miniature pies, with their flaky crust and delicious fillings, are a true culinary gem. Whether you're a local or just visiting, Bakehouse is a must-visit for any cookie or pie enthusiast.</td>\n",
       "      <td>3000034</td>\n",
       "      <td>2024-05-20 17:24:06.591</td>\n",
       "      <td>5</td>\n",
       "    </tr>\n",
       "    <tr>\n",
       "      <th>5</th>\n",
       "      <td>I recently visited the Bakehouse location on Main Street in Vancouver and was disappointed with my experience. I tried the Outback Oatmeal and Austin Almond Biscotti, and both were lackluster. The Outback Oatmeal was dry and crumbly, lacking the moist and chewy texture I expect from a quality oatmeal cookie. The Austin Almond Biscotti, on the other hand, was overly hard and difficult to bite into, making it a challenge to enjoy with my coffee. I've had better biscotti at other bakeries in the city. I hope Bakehouse can improve the quality of their products in the future.</td>\n",
       "      <td>3000022</td>\n",
       "      <td>2024-05-31 15:13:36.962</td>\n",
       "      <td>6</td>\n",
       "    </tr>\n",
       "    <tr>\n",
       "      <th>6</th>\n",
       "      <td>**4.5/5 stars**\\n\\nI stumbled upon Bakehouse in De Pijp, Amsterdam, and oh boy, what a gem! Their Outback Oatmeal cookies are a game-changer - soft, chewy, and packed with flavor. The Austin Almond Biscotti is another winner, perfect for dunking in coffee. However, the Orchard Oasis cookies were a bit too sweet for my taste. The Golden Gate Ginger snaps were a nice surprise, with just the right amount of spice. Tokyo Tidbits were a fun twist, but not my favorite. Pearly Pies? More like Pearly Perfection! The lemon filling is to die for. Overall, Bakehouse is a must-visit for cookie lovers in Amsterdam.</td>\n",
       "      <td>3000040</td>\n",
       "      <td>2024-05-20 17:17:03.052</td>\n",
       "      <td>7</td>\n",
       "    </tr>\n",
       "    <tr>\n",
       "      <th>7</th>\n",
       "      <td>\"I stopped by Bakehouse in Kitano, Kobe and sampled a few treats. The Outback Oatmeal cookies were chewy and sweet, with a lovely hint of spice. The Austin Almond Biscotti was crunchy and nutty, perfect for dipping in coffee. The Orchard Oasis cookie was a fruity surprise, with a delightful citrus zing. The Golden Gate Ginger cookie was spicy and satisfying. The Tokyo Tidbits were adorable and addictive, but the Pearly Pies were a bit too sweet for my taste. Overall, Bakehouse offers a diverse range of flavors and textures - worth a visit if you're in the area!\"</td>\n",
       "      <td>3000004</td>\n",
       "      <td>2024-05-31 15:23:53.074</td>\n",
       "      <td>8</td>\n",
       "    </tr>\n",
       "    <tr>\n",
       "      <th>8</th>\n",
       "      <td>**5/5 stars**\\n\\nI'm obsessed with Bakehouse in The Gulch, Nashville! Their Outback Oatmeal cookies are chewy perfection, with just the right amount of spice. The Austin Almond Biscotti is a game-changer - crunchy on the outside, soft on the inside, and that almond flavor? But the real showstopper is the Orchard Oasis cookie sandwich - the combination of sweet and tangy is addictive! The only miss for me was the Golden Gate Ginger, which was a bit too spicy. Can't wait to try the Tokyo Tidbits and Pearly Pies next!</td>\n",
       "      <td>3000026</td>\n",
       "      <td>2024-05-20 17:17:03.052</td>\n",
       "      <td>9</td>\n",
       "    </tr>\n",
       "    <tr>\n",
       "      <th>9</th>\n",
       "      <td>\"I stopped by Bakehouse in Kyoto's charming Gion district and sampled a few treats. The Outback Oatmeal cookies were chewy and comforting, while the Austin Almond Biscotti's crunchy texture won me over. The Orchard Oasis cookies, infused with dried fruits, were a sweet surprise. However, the Golden Gate Ginger cookies were a tad too spicy for my taste. The Tokyo Tidbits, bite-sized morsels of goodness, were addictive. Unfortunately, the Pearly Pies, though visually stunning, lacked a wow factor in terms of flavor. Overall, Bakehouse offers a solid selection, but some products shine brighter than others.\"</td>\n",
       "      <td>3000007</td>\n",
       "      <td>2024-05-31 15:23:53.074</td>\n",
       "      <td>10</td>\n",
       "    </tr>\n",
       "  </tbody>\n",
       "</table>"
      ],
      "text/plain": [
       "DataFrame[review: string, franchiseID: bigint, review_date: timestamp, new_id: int]"
      ]
     },
     "execution_count": 3,
     "metadata": {},
     "output_type": "execute_result"
    }
   ],
   "source": [
    "%sql\n",
    "select *\n",
    "from samples.bakehouse.media_customer_reviews\n",
    "limit 10"
   ]
  }
 ],
 "metadata": {
  "kernelspec": {
   "display_name": ".venv",
   "language": "python",
   "name": "python3"
  },
  "language_info": {
   "codemirror_mode": {
    "name": "ipython",
    "version": 3
   },
   "file_extension": ".py",
   "mimetype": "text/x-python",
   "name": "python",
   "nbconvert_exporter": "python",
   "pygments_lexer": "ipython3",
   "version": "3.11.6"
  }
 },
 "nbformat": 4,
 "nbformat_minor": 5
}
